{
 "cells": [
  {
   "cell_type": "code",
   "execution_count": 1,
   "metadata": {},
   "outputs": [],
   "source": [
    "import cv2\n",
    "from numpy import *\n",
    "import numpy as np\n",
    "import glob\n",
    "\n",
    "# draw a cube on the img with imgpts\n",
    "def draw_cube(img, imgpts):\n",
    "    imgpts = np.int32(imgpts).reshape(-1,2)\n",
    "\n",
    "    # draw surround layers in blue and green colors\n",
    "    for i in range(4):\n",
    "        if i & 1 ==0:\n",
    "            cv2.drawContours(img, [imgpts[[i,(i+1)%4,(i+1)%4+4,i%4+4]]],-1,(255,0,0),-3)\n",
    "        else:\n",
    "            cv2.drawContours(img, [imgpts[[i,(i+1)%4,(i+1)%4+4,i%4+4]]],-1,(0,0,255),-3)\n",
    "\n",
    "    # draw top layer in red color\n",
    "    cv2.drawContours(img, [imgpts[4:]],-1,(0,255,0),-3)\n",
    "\n",
    "    return img"
   ]
  },
  {
   "cell_type": "code",
   "execution_count": null,
   "metadata": {},
   "outputs": [],
   "source": [
    "# convert image points to world points\n",
    "def img2worldpoint(imgpts,rvec,tvec,mtx):\n",
    "\n",
    "    pts = np.ones((1,3),np.float32)\n",
    "    pts[0][0]=imgpts[0][0]\n",
    "    pts[0][1]=imgpts[0][1]\n",
    "    pts[0][2]=1\n",
    "    X = mat(pts)\n",
    "\n",
    "    # convert rotation vector to rotaion matrix\n",
    "    rmtx, jab = cv2.Rodrigues(rvec)\n",
    "\n",
    "    R = mat(rmtx).T\n",
    "    t = mat(tvec)\n",
    "    K = mat(mtx).T\n",
    "\n",
    "    Rt = np.ones((3,4),np.float32)\n",
    "    Rt[:,0]=R[0,:]\n",
    "    Rt[:,1]=R[1,:]\n",
    "    Rt[:,2]=R[2,:]\n",
    "    Rt[:,3]=t.T\n",
    "    tform = K*Rt\n",
    "    U = tform.I * X.T\n",
    "    # U = (K*R).I * (X.T-K*t)\n",
    "\n",
    "    wpts = np.zeros((3,1),np.float32)\n",
    "    wpts[0] = U[0]/U[3]\n",
    "    wpts[1] = U[1]/U[3]\n",
    "    wpts[2] = U[2]/U[3]\n",
    "\n",
    "\n",
    "    ori = R.T\n",
    "    locat = -t.T*ori\n",
    "    return wpts, locat, R, t, K"
   ]
  },
  {
   "cell_type": "code",
   "execution_count": 2,
   "metadata": {},
   "outputs": [],
   "source": [
    "# Load previously saved data\n",
    "with np.load('point.npz') as X:\n",
    "    # print(X)\n",
    "    mtx, dist, _, _ = [X[i] for i in ('mtx','dist','tvecs','rvecs')]\n"
   ]
  },
  {
   "cell_type": "code",
   "execution_count": 3,
   "metadata": {},
   "outputs": [],
   "source": [
    "# termination criteria\n",
    "criteria = (cv2.TERM_CRITERIA_EPS + cv2.TERM_CRITERIA_MAX_ITER, 30, 0.001)\n",
    "weight = 7\n",
    "height = 5\n",
    "\n",
    "# prepare object points, like (0,0,0), (1,0,0), (2,0,0) ....,(6,5,0)\n",
    "objp = np.zeros((weight*height,3), np.float32)\n",
    "objp[:,:2] = np.mgrid[0:weight,0:height].T.reshape(-1,2)\n",
    "\n",
    "# axis = np.float32([[3,0,0], [0,3,0], [0,0,-3]]).reshape(-1,3)\n",
    "\n",
    "axis = np.float32([[0,0,0], [0,3,0], [3,3,0], [3,0,0],\n",
    "                   [0,0,-3],[0,3,-3],[3,3,-3],[3,0,-3] ])\n"
   ]
  },
  {
   "cell_type": "code",
   "execution_count": 4,
   "metadata": {},
   "outputs": [],
   "source": [
    "cap = cv2.VideoCapture(0)\n",
    "\n",
    "while(1):\n",
    "    ret, frame = cap.read()\n",
    "    cv2.imshow(\"Camera\",frame)\n",
    "    gray = cv2.cvtColor(frame,cv2.COLOR_BGR2GRAY)\n",
    "\n",
    "    # Find the chess board corners\n",
    "    ret, corners = cv2.findChessboardCorners(gray, (weight,height),None)\n",
    "    if ret == True:\n",
    "        corners2 = cv2.cornerSubPix(gray,corners,(11,11),(-1,-1),criteria)\n",
    "        \n",
    "        \n",
    "        # Find the rotation and translation vectors.\n",
    "        ret1, rvecs, tvecs, inliers = cv2.solvePnPRansac(objp, corners2, mtx, dist)\n",
    "\n",
    "        # project 3D points to image plane\n",
    "        imgpts, jac = cv2.projectPoints(axis, rvecs, tvecs, mtx, dist)\n",
    "\n",
    "        img = draw(frame,corners2,imgpts)\n",
    "        cv2.imshow('img',frame)\n",
    "    if cv2.waitKey(1) & 0xFF ==ord('q'):\n",
    "        break\n",
    "\n",
    "cap.release()\n",
    "cv2.destroyAllWindows()"
   ]
  },
  {
   "cell_type": "code",
   "execution_count": null,
   "metadata": {},
   "outputs": [],
   "source": []
  }
 ],
 "metadata": {
  "kernelspec": {
   "display_name": "Python 2",
   "language": "python",
   "name": "python2"
  },
  "language_info": {
   "codemirror_mode": {
    "name": "ipython",
    "version": 2
   },
   "file_extension": ".py",
   "mimetype": "text/x-python",
   "name": "python",
   "nbconvert_exporter": "python",
   "pygments_lexer": "ipython2",
   "version": "2.7.12"
  }
 },
 "nbformat": 4,
 "nbformat_minor": 2
}
